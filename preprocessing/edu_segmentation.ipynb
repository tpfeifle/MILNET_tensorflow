{
 "cells": [
  {
   "cell_type": "code",
   "execution_count": 1,
   "metadata": {},
   "outputs": [],
   "source": [
    "import pandas as pd\n",
    "import gzip\n",
    "import json\n",
    "import numpy as np\n",
    "import os\n",
    "import re\n",
    "import csv\n",
    "\n",
    "# NUM_SAMPLES = 1000\n",
    "ds_path = \"data/raw/Electronics_5.json\"\n",
    "nb_files = 20"
   ]
  },
  {
   "cell_type": "code",
   "execution_count": 2,
   "metadata": {},
   "outputs": [
    {
     "name": "stdout",
     "output_type": "stream",
     "text": [
      "1689188\n"
     ]
    }
   ],
   "source": [
    "# Load Data from json-file to list\n",
    "raw_data = []\n",
    "with open(ds_path) as f:\n",
    "    for line in f:\n",
    "        raw_data.append(json.loads(line))\n",
    "\n",
    "print(len(raw_data))"
   ]
  },
  {
   "cell_type": "code",
   "execution_count": 3,
   "metadata": {},
   "outputs": [
    {
     "name": "stdout",
     "output_type": "stream",
     "text": [
      "Total reviews: 425685\n",
      "3.0    141895\n",
      "5.0    106117\n",
      "1.0     81941\n",
      "2.0     59954\n",
      "4.0     35778\n",
      "Name: overall, dtype: int64\n"
     ]
    },
    {
     "data": {
      "text/html": [
       "<div>\n",
       "<style scoped>\n",
       "    .dataframe tbody tr th:only-of-type {\n",
       "        vertical-align: middle;\n",
       "    }\n",
       "\n",
       "    .dataframe tbody tr th {\n",
       "        vertical-align: top;\n",
       "    }\n",
       "\n",
       "    .dataframe thead th {\n",
       "        text-align: right;\n",
       "    }\n",
       "</style>\n",
       "<table border=\"1\" class=\"dataframe\">\n",
       "  <thead>\n",
       "    <tr style=\"text-align: right;\">\n",
       "      <th></th>\n",
       "      <th>asin</th>\n",
       "      <th>helpful</th>\n",
       "      <th>overall</th>\n",
       "      <th>sentiment</th>\n",
       "      <th>reviewText</th>\n",
       "      <th>reviewTime</th>\n",
       "      <th>reviewerID</th>\n",
       "      <th>reviewerName</th>\n",
       "      <th>summary</th>\n",
       "      <th>unixReviewTime</th>\n",
       "    </tr>\n",
       "  </thead>\n",
       "  <tbody>\n",
       "    <tr>\n",
       "      <th>0</th>\n",
       "      <td>B000BNHM0C</td>\n",
       "      <td>[1, 2]</td>\n",
       "      <td>5.0</td>\n",
       "      <td>1.0</td>\n",
       "      <td>I couldn't be happier with this piece of art, ...</td>\n",
       "      <td>03 11, 2011</td>\n",
       "      <td>A2JF49W7LTHOL6</td>\n",
       "      <td>Enrique</td>\n",
       "      <td>Couldn't be happier, excellent product!</td>\n",
       "      <td>1299801600</td>\n",
       "    </tr>\n",
       "    <tr>\n",
       "      <th>1</th>\n",
       "      <td>B007KEZMX4</td>\n",
       "      <td>[0, 0]</td>\n",
       "      <td>3.0</td>\n",
       "      <td>0.0</td>\n",
       "      <td>The quality of the picture I'd good. But what ...</td>\n",
       "      <td>06 3, 2013</td>\n",
       "      <td>A6J8E6LA310ZE</td>\n",
       "      <td>N Z</td>\n",
       "      <td>freezes too much</td>\n",
       "      <td>1370217600</td>\n",
       "    </tr>\n",
       "    <tr>\n",
       "      <th>2</th>\n",
       "      <td>B0006MWPSM</td>\n",
       "      <td>[0, 0]</td>\n",
       "      <td>5.0</td>\n",
       "      <td>1.0</td>\n",
       "      <td>Purchased for our conference room to connect a...</td>\n",
       "      <td>04 18, 2012</td>\n",
       "      <td>A1OHOFON2HRKID</td>\n",
       "      <td>D. Asher \"Dave\"</td>\n",
       "      <td>Good product, Great price</td>\n",
       "      <td>1334707200</td>\n",
       "    </tr>\n",
       "    <tr>\n",
       "      <th>3</th>\n",
       "      <td>B000JET9EA</td>\n",
       "      <td>[0, 1]</td>\n",
       "      <td>1.0</td>\n",
       "      <td>-1.0</td>\n",
       "      <td>I don't understand how they could have made su...</td>\n",
       "      <td>09 21, 2011</td>\n",
       "      <td>A1K4G5YJDJQI6Q</td>\n",
       "      <td>Steve C</td>\n",
       "      <td>Worthless for anything but playing MP3's!</td>\n",
       "      <td>1316563200</td>\n",
       "    </tr>\n",
       "    <tr>\n",
       "      <th>4</th>\n",
       "      <td>B0028ACYEK</td>\n",
       "      <td>[0, 0]</td>\n",
       "      <td>3.0</td>\n",
       "      <td>0.0</td>\n",
       "      <td>if you have a three story home then it would n...</td>\n",
       "      <td>05 4, 2014</td>\n",
       "      <td>A12N3BWTRHTMAC</td>\n",
       "      <td>50rocks \"50rocks\"</td>\n",
       "      <td>broke after a couple of years</td>\n",
       "      <td>1399161600</td>\n",
       "    </tr>\n",
       "  </tbody>\n",
       "</table>\n",
       "</div>"
      ],
      "text/plain": [
       "         asin helpful  overall  sentiment  \\\n",
       "0  B000BNHM0C  [1, 2]      5.0        1.0   \n",
       "1  B007KEZMX4  [0, 0]      3.0        0.0   \n",
       "2  B0006MWPSM  [0, 0]      5.0        1.0   \n",
       "3  B000JET9EA  [0, 1]      1.0       -1.0   \n",
       "4  B0028ACYEK  [0, 0]      3.0        0.0   \n",
       "\n",
       "                                          reviewText   reviewTime  \\\n",
       "0  I couldn't be happier with this piece of art, ...  03 11, 2011   \n",
       "1  The quality of the picture I'd good. But what ...   06 3, 2013   \n",
       "2  Purchased for our conference room to connect a...  04 18, 2012   \n",
       "3  I don't understand how they could have made su...  09 21, 2011   \n",
       "4  if you have a three story home then it would n...   05 4, 2014   \n",
       "\n",
       "       reviewerID       reviewerName  \\\n",
       "0  A2JF49W7LTHOL6            Enrique   \n",
       "1   A6J8E6LA310ZE                N Z   \n",
       "2  A1OHOFON2HRKID    D. Asher \"Dave\"   \n",
       "3  A1K4G5YJDJQI6Q            Steve C   \n",
       "4  A12N3BWTRHTMAC  50rocks \"50rocks\"   \n",
       "\n",
       "                                     summary  unixReviewTime  \n",
       "0    Couldn't be happier, excellent product!      1299801600  \n",
       "1                           freezes too much      1370217600  \n",
       "2                  Good product, Great price      1334707200  \n",
       "3  Worthless for anything but playing MP3's!      1316563200  \n",
       "4              broke after a couple of years      1399161600  "
      ]
     },
     "execution_count": 3,
     "metadata": {},
     "output_type": "execute_result"
    }
   ],
   "source": [
    "# convert data from list to pandas dataframe\n",
    "df = pd.DataFrame(raw_data)\n",
    "\n",
    "# filter all review texts that have more then 30 characters\n",
    "df = df[df[\"reviewText\"].str.len() >= 30]\n",
    "\n",
    "# convert overall rating to sentiment\n",
    "df.insert(3, \"sentiment\", df[\"overall\"].replace({5.0: 1, 4.0: 1, 3.0: 0, 2.0: -1, 1.0: -1}), allow_duplicates=True)\n",
    "\n",
    "# compute minimum number of occurences of all sentiments\n",
    "sent_count_min = df[\"sentiment\"].value_counts().min()\n",
    "df = df.groupby(\"sentiment\").head(sent_count_min)\n",
    "\n",
    "# shuffle data (random_state for reproducibility)\n",
    "df = df.sample(frac=1, random_state=1).reset_index(drop=True)\n",
    "\n",
    "print(\"Total reviews: {}\".format(len(df)))\n",
    "print(df[\"overall\"].value_counts())\n",
    "\n",
    "df.head()"
   ]
  },
  {
   "cell_type": "code",
   "execution_count": 5,
   "metadata": {},
   "outputs": [
    {
     "name": "stdout",
     "output_type": "stream",
     "text": [
      "Creating .txt file that contains data/processed/electronics/electronics_reviews reviews: 409825\n"
     ]
    }
   ],
   "source": [
    "print(\"Creating .txt file that contains {} reviews: {}\".format(rev_texts_path, len(df)))\n",
    "with open(\"data/processed/final/electronics_sentences.txt\", \"w\") as f:\n",
    "    for i, row in df.iterrows():\n",
    "        # f.write(\"review_{}\\n\".format(i))\n",
    "        f.write(\"###{}\\n\".format(row[\"overall\"]))\n",
    "        f.write(row[\"reviewText\"] + \"\\n\\n\")\n",
    "        "
   ]
  },
  {
   "cell_type": "code",
   "execution_count": 6,
   "metadata": {},
   "outputs": [
    {
     "name": "stdout",
     "output_type": "stream",
     "text": [
      "Creating 20 documents that contains 20491 reviews each: data/processed/electronics/electronics_reviews\n"
     ]
    }
   ],
   "source": [
    "print(\"Creating {} documents that contains {} reviews each: {}\".format(nb_files, int(len(df)/nb_files) ,rev_texts_path))\n",
    "\n",
    "reviews_per_file = int(len(df)/nb_files)\n",
    "file_counter = 0\n",
    "reviews = \"\"\n",
    "review_counter = 0\n",
    "\n",
    "for i, row in df.iterrows():\n",
    "\n",
    "    reviews += \"###{}\\n{}\\n\\n\".format(row[\"overall\"], row[\"reviewText\"])\n",
    "    review_counter += 1\n",
    "\n",
    "    if review_counter == reviews_per_file:\n",
    "        with open(rev_texts_path + str(file_counter + 1) + \".txt\", \"w\") as f:\n",
    "            f.write(reviews)\n",
    "            \n",
    "        reviews = \"\"\n",
    "        file_counter += 1\n",
    "        review_counter = 0\n",
    "\n",
    "with open(rev_texts_path + str(file_counter) + \".txt\", \"a\") as f:\n",
    "    f.write(reviews)            \n",
    "\n"
   ]
  },
  {
   "cell_type": "raw",
   "metadata": {},
   "source": [
    "scp -r data/processed/electronics hpauthner@social5.cm.in.tum.de:feng-hirst-rst-parser-acl-2014/texts\n",
    "\n",
    "ssh hpauthner@social5.cm.in.tum.de\n",
    "\n",
    "password: duseg4nlp"
   ]
  },
  {
   "cell_type": "markdown",
   "metadata": {},
   "source": [
    "***"
   ]
  },
  {
   "cell_type": "raw",
   "metadata": {},
   "source": [
    "scp back to local machine"
   ]
  },
  {
   "cell_type": "markdown",
   "metadata": {},
   "source": [
    "## Postprocessing after EDU Segmantation"
   ]
  },
  {
   "cell_type": "code",
   "execution_count": null,
   "metadata": {},
   "outputs": [],
   "source": [
    "'''\n",
    "Create txt-file and csv-file containing the processed reviews of all sub-files\n",
    "'''\n",
    "\n",
    "reviews = \"\"\n",
    "\n",
    "for i in range(nb_files):\n",
    "    with open(\"data/processed/electronics_edus/electronics_reviews{}.txt.edus\".format(i+1), \"r\") as f: \n",
    "        reviews += f.read()\n",
    "\n",
    "reviews = re.sub(\"(-LRB-|-RRB-|-LSB-|-RSB-)\", \"\", reviews)\n",
    "\n",
    "for i in range(5):\n",
    "    reviews = re.sub('### {}.0 (EDU_BREAK )?'.format(i+1), '\\n###{}.0\\n'.format(i+1), reviews)\n",
    "reviews = reviews[1:]\n",
    "\n",
    "# txt\n",
    "with open(\"data/processed/final/electronics_edus.txt\", \"w\") as f: \n",
    "    f.write(reviews)\n",
    "\n",
    "\n",
    "reviews = reviews.split(\"###\")[1:]\n",
    "\n",
    "# csv\n",
    "with open(\"data/processed/final/electronics_edus.csv\", \"w\") as f:\n",
    "    writer = csv.writer(f)\n",
    "    writer.writerow([\"overall\", \"reviewText\"])\n",
    "    \n",
    "    for review in reviews:\n",
    "        rating = review[0:3]\n",
    "        review_text = review[3:]     \n",
    "        writer.writerow([rating, review_text])"
   ]
  },
  {
   "cell_type": "code",
   "execution_count": 14,
   "metadata": {},
   "outputs": [
    {
     "name": "stdout",
     "output_type": "stream",
     "text": [
      "###5.0\n",
      "Its a splitter EDU_BREAK that allows me to not be tortured by my children fighting over a toy .\n",
      "Anything EDU_BREAK that makes my life easier EDU_BREAK is a win-win !\n",
      "Its cheap and I will never travel without it !\n",
      "\n",
      "###1.0\n",
      "I was wanting to use these cables to connect my Sprint EVO phone to the computer USB port , or charge EDU_BREAK using the USB power adapter .\n",
      "These cables wo n't stay connected .\n",
      "Physically , they stayed EDU_BREAK plugged in , EDU_BREAK but the computer would n't see the EVO , EDU_BREAK and the EVO 's charge indicator EDU_BREAK  which starts EDU_BREAK charging EDU_BREAK when connected to a USB port  EDU_BREAK kept EDU_BREAK turning off , EDU_BREAK indicating no power was being detected .\n",
      "Tried multiple different PC 's and USB power adapters .\n",
      "My other cables work fine , EDU_BREAK but the 2 of these cables EDU_BREAK I ordered failed .\n",
      "Too expensive shipping to return , for the small amount of net refund I 'd get for the purchase price .\n",
      "Guess I 'll learn not to b\n"
     ]
    }
   ],
   "source": [
    "print(reviews[:1000])"
   ]
  },
  {
   "cell_type": "code",
   "execution_count": null,
   "metadata": {},
   "outputs": [],
   "source": []
  }
 ],
 "metadata": {
  "kernelspec": {
   "display_name": "Python 3",
   "language": "python",
   "name": "python3"
  },
  "language_info": {
   "codemirror_mode": {
    "name": "ipython",
    "version": 3
   },
   "file_extension": ".py",
   "mimetype": "text/x-python",
   "name": "python",
   "nbconvert_exporter": "python",
   "pygments_lexer": "ipython3",
   "version": "3.7.3"
  }
 },
 "nbformat": 4,
 "nbformat_minor": 2
}
